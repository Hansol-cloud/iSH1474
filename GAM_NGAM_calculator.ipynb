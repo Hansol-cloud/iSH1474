{
 "cells": [
  {
   "cell_type": "markdown",
   "id": "582fb044",
   "metadata": {},
   "source": [
    "## Calculate GAM in metabolic model\n",
    "    **Version:** 1.0\n",
    "    **Author:** Shakra Ahmad\n",
    "    ** Modified by:** Sol Han\n",
    "    **Organization:** Sybirg Lab\n",
    "    **Description:** This code is used to calculate GAM in metabolic model.\n",
    "\n",
    "    Copyright (c) 2023 Sybirg Lab, Konkuk University \n",
    "    All rights reserved. \n",
    "\n",
    "    **Note: This code is provided as-is, without any warranties or guarantees.*"
   ]
  },
  {
   "cell_type": "code",
   "execution_count": null,
   "id": "5a5c9bd3",
   "metadata": {},
   "outputs": [],
   "source": [
    "# metabolic model open\n",
    "import cobra\n",
    "\n",
    "s12 = cobra.io.read_sbml_model('iSH1474_GAM_NGAM.xml')\n",
    "model = s12.copy()"
   ]
  },
  {
   "cell_type": "code",
   "execution_count": null,
   "id": "78f455e9",
   "metadata": {},
   "outputs": [],
   "source": [
    "# Change the coefficients of amino acids and dnas in biomass equations\n",
    "\n",
    "aa = ['ala__L_c','arg__L_c','asn__L_c','asp__L_c','cys__L_c','gln__L_c','glu__L_c','gly_c','his__L_c','ile__L_c',\n",
    "       'leu__L_c','lys__L_c','met__L_c','phe__L_c','pro__L_c','ser__L_c','thr__L_c','trp__L_c','tyr__L_c','val__L_c']\n",
    "dna = ['datp_c','dctp_c','dgtp_c','dttp_c']\n",
    "\n",
    "aa_coeffs = {'ala__L_c':-0.609649,'arg__L_c':-0.363607,'asn__L_c':-0.160967,'asp__L_c':-0.291447,'cys__L_c':-0.058177,\n",
    "          'gln__L_c':-0.257130,'glu__L_c':-0.310237,'gly_c':-0.436021,'his__L_c':-0.129586,'ile__L_c':-0.249629,\n",
    "       'leu__L_c':-0.644223,'lys__L_c':-0.185472,'met__L_c':-0.127920,'phe__L_c':-0.194990,'pro__L_c':-0.267482,\n",
    "          'ser__L_c':-0.310657,'thr__L_c':-0.259012,'trp__L_c':-0.079935,'tyr__L_c':-0.139980,'val__L_c':-0.393654}\n",
    "\n",
    "dna_coeffs = {'datp_c':-0.010765,'dctp_c':-0.017418,'dgtp_c':-0.017382,'dttp_c':-0.010745}\n",
    "\n",
    "biomass_equations = ['BIOMASS_KT2440_Core2','BIOMASS_KT2440_WT3']\n",
    "\n",
    "for eq in biomass_equations:\n",
    "    \n",
    "    delete = {}\n",
    "\n",
    "    for m in aa+dna:\n",
    "        globals()[m] = model.metabolites.get_by_id(m)\n",
    "        globals()[m+'_coef'] = model.reactions.get_by_id(eq).get_coefficient(globals()[m])\n",
    "        delete[m]=-(globals()[m+'_coef'])\n",
    "    \n",
    "    model.reactions.get_by_id(eq).add_metabolites(delete)\n",
    "    model.reactions.get_by_id(eq).add_metabolites(aa_coeffs)\n",
    "    model.reactions.get_by_id(eq).add_metabolites(dna_coeffs)\n",
    "    \n",
    "    print(eq, model.reactions.get_by_id(eq).reaction)"
   ]
  },
  {
   "cell_type": "code",
   "execution_count": null,
   "id": "61bcd4af",
   "metadata": {
    "scrolled": true
   },
   "outputs": [],
   "source": [
    "# q= growth_rate/Y_G + maintenance coefficient(mc)\n",
    "\n",
    "inverse_Y_G = 10\n",
    "mc = 0.077\n",
    "\n",
    "\n",
    "\n",
    "# NGAM calculation\n",
    "\n",
    "import numpy as np\n",
    "\n",
    "biomass_equations = ['BIOMASS_KT2440_Core2','BIOMASS_KT2440_WT3']\n",
    "\n",
    "for eq in biomass_equations:\n",
    "    for m in gam_am:\n",
    "        globals()[m] = model.metabolites.get_by_id(m)\n",
    "        globals()[m+'_coef'] = model.reactions.get_by_id(eq).get_coefficient(globals()[m])\n",
    "\n",
    "    with model:\n",
    "        model.reactions.get_by_id('ATPM').bounds = (-99999,99999)\n",
    "        model.reactions.get_by_id(eq).add_metabolites({'h2o_c':-h2o_c_coef,'atp_c':-atp_c_coef,'adp_c':-adp_c_coef,'h_c':-h_c_coef,'pi_c':-pi_c_coef})\n",
    "    \n",
    "        model.objective = 'ATPM'\n",
    "        model.reactions.get_by_id(\"EX_glc__D_e\").lower_bound = -mc\n",
    "        model.reactions.get_by_id('BIOMASS_KT2440_Core2').lower_bound = 0\n",
    "        model.reactions.get_by_id('BIOMASS_KT2440_WT3').lower_bound = 0\n",
    "        ngam = round(model.optimize().objective_value,2)\n",
    "        \n",
    "print('NGAM:',ngam)"
   ]
  },
  {
   "cell_type": "code",
   "execution_count": null,
   "id": "2dd4bc7e",
   "metadata": {
    "scrolled": true
   },
   "outputs": [],
   "source": [
    "# GAM calculation\n",
    "\n",
    "glucose = [1,2,3,4,5] #mmol\n",
    "\n",
    "met = ['h2o_c','atp_c','adp_c','h_c','pi_c'] # gam associated metabolites\n",
    "biomass = model.reactions.get_by_id('BIOMASS_KT2440_Core2')\n",
    "model.objective = 'BIOMASS_KT2440_Core2'\n",
    "\n",
    "for m in met:\n",
    "    globals()[m] = model.metabolites.get_by_id(m)\n",
    "    globals()[m+'_coef'] = biomass.get_coefficient(globals()[m])\n",
    "\n",
    "for coef in (np.arange(40,50,0.01)):\n",
    "    objective_values = []\n",
    "    \n",
    "    with model:\n",
    "        model.reactions.get_by_id('ATPM').bounds = (ngam,ngam)\n",
    "        for glc in glucose:\n",
    "            model.reactions.get_by_id(\"EX_glc__D_e\").lower_bound = -glc\n",
    "            biomass.add_metabolites({'h2o_c':-(coef-5.4698)-h2o_c_coef,'atp_c':-(coef+0.168683)-atp_c_coef,'adp_c':coef-adp_c_coef,'h_c':coef-h_c_coef,'pi_c':coef-pi_c_coef-0.003522})\n",
    "            objective_values.append(model.optimize().objective_value)\n",
    "            \n",
    "        slope, intercept = np.polyfit(objective_values, glucose,1)\n",
    "        \n",
    "        print('gam:',coef, 'slope:',slope)"
   ]
  },
  {
   "cell_type": "code",
   "execution_count": null,
   "id": "ad6d7bff",
   "metadata": {},
   "outputs": [],
   "source": [
    "#fix the GAM/NGAM\n",
    "\n",
    "gam = 45.21\n",
    "\n",
    "for eq in biomass_equations:\n",
    "    for m in met:\n",
    "        globals()[m] = model.metabolites.get_by_id(m)\n",
    "        globals()[m+'_coef'] = model.reactions.get_by_id(eq).get_coefficient(globals()[m])\n",
    "    model.reactions.get_by_id(eq).add_metabolites({'h2o_c':-h2o_c_coef,'atp_c':-atp_c_coef,'adp_c':-adp_c_coef,'h_c':-h_c_coef,'pi_c':-pi_c_coef})\n",
    "\n",
    "    model.reactions.get_by_id(eq).add_metabolites({'h2o_c':round(-(gam-5.4698),6),\n",
    "                                                                 'atp_c':round(-(gam+0.168683),6),\n",
    "                                                                 'adp_c':round(gam,6),\n",
    "                                                                 'h_c':round(gam,6),\n",
    "                                                                 'pi_c':round(gam-0.003522,6)})\n",
    "    print(model.reactions.get_by_id(eq).get_coefficient(adp_c))\n",
    "    \n",
    "model.reactions.get_by_id('ATPM').bounds = (ngam, 999999.0)\n",
    "\n",
    "\n",
    "# save the model\n",
    "\n",
    "model.objective = 'BIOMASS_KT2440_WT3'\n",
    "\n",
    "cobra.io.write_sbml_model(model, 'iSH1474_GAM_NGAM.xml')\n",
    "cobra.io.save_matlab_model(model, 'iSH1474_GAM_NGAM.mat')\n",
    "cobra.io.save_json_model(model, 'iSH1474_GAM_NGAM.json')"
   ]
  },
  {
   "cell_type": "code",
   "execution_count": null,
   "id": "5bb15961",
   "metadata": {},
   "outputs": [],
   "source": []
  },
  {
   "cell_type": "code",
   "execution_count": null,
   "id": "fa77d2bd",
   "metadata": {},
   "outputs": [],
   "source": []
  }
 ],
 "metadata": {
  "kernelspec": {
   "display_name": "Python 3 (ipykernel)",
   "language": "python",
   "name": "python3"
  },
  "language_info": {
   "codemirror_mode": {
    "name": "ipython",
    "version": 3
   },
   "file_extension": ".py",
   "mimetype": "text/x-python",
   "name": "python",
   "nbconvert_exporter": "python",
   "pygments_lexer": "ipython3",
   "version": "3.10.9"
  }
 },
 "nbformat": 4,
 "nbformat_minor": 5
}
